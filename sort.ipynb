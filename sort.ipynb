{
  "cells": [
    {
      "cell_type": "code",
      "execution_count": null,
      "metadata": {
        "id": "0KdARKKBW8xJ"
      },
      "outputs": [],
      "source": [
        "def sort(x):\n",
        "\treturn sorted(x)"
      ]
    },
    {
      "cell_type": "code",
      "execution_count": null,
      "metadata": {
        "id": "kfxT6_EeW8xK",
        "outputId": "bd4cb11f-0f0c-43ba-cc3a-4f401d276da7"
      },
      "outputs": [
        {
          "data": {
            "text/plain": [
              "[0, 1, 1, 2, 2, 22, 22, 31, 45, 340]"
            ]
          },
          "execution_count": 3,
          "metadata": {},
          "output_type": "execute_result"
        }
      ],
      "source": [
        "sort([1, 2, 45, 0, 22, 31, 1, 22, 340, 2])"
      ]
    },
    {
      "cell_type": "code",
      "source": [
        "def search(x, y):\n",
        "  return x.index(y)"
      ],
      "metadata": {
        "id": "xPAGCI0TXpCl"
      },
      "execution_count": 1,
      "outputs": []
    },
    {
      "cell_type": "code",
      "source": [
        "search([1, 2, 2, 3], 3)"
      ],
      "metadata": {
        "colab": {
          "base_uri": "https://localhost:8080/"
        },
        "id": "RXnjtJ6oXzXS",
        "outputId": "9e6fa0f8-0aa5-4c5e-d00f-8ec180df4ee7"
      },
      "execution_count": 2,
      "outputs": [
        {
          "output_type": "execute_result",
          "data": {
            "text/plain": [
              "3"
            ]
          },
          "metadata": {},
          "execution_count": 2
        }
      ]
    }
  ],
  "metadata": {
    "kernelspec": {
      "display_name": "x",
      "language": "python",
      "name": "python3"
    },
    "language_info": {
      "codemirror_mode": {
        "name": "ipython",
        "version": 3
      },
      "file_extension": ".py",
      "mimetype": "text/x-python",
      "name": "python",
      "nbconvert_exporter": "python",
      "pygments_lexer": "ipython3",
      "version": "3.11.4"
    },
    "orig_nbformat": 4,
    "colab": {
      "provenance": [],
      "toc_visible": true
    }
  },
  "nbformat": 4,
  "nbformat_minor": 0
}